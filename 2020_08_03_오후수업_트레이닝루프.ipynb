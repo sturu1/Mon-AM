{
  "nbformat": 4,
  "nbformat_minor": 0,
  "metadata": {
    "colab": {
      "name": "2020_08_03_오후수업_트레이닝루프.ipynb",
      "provenance": [],
      "authorship_tag": "ABX9TyPtlnMIDrE14QX9gmCm6hfH",
      "include_colab_link": true
    },
    "kernelspec": {
      "name": "python3",
      "display_name": "Python 3"
    }
  },
  "cells": [
    {
      "cell_type": "markdown",
      "metadata": {
        "id": "view-in-github",
        "colab_type": "text"
      },
      "source": [
        "<a href=\"https://colab.research.google.com/github/sturu1/Mon-AM/blob/master/2020_08_03_%EC%98%A4%ED%9B%84%EC%88%98%EC%97%85_%ED%8A%B8%EB%A0%88%EC%9D%B4%EB%8B%9D%EB%A3%A8%ED%94%84.ipynb\" target=\"_parent\"><img src=\"https://colab.research.google.com/assets/colab-badge.svg\" alt=\"Open In Colab\"/></a>"
      ]
    },
    {
      "cell_type": "markdown",
      "metadata": {
        "id": "cK0SgllHNCAW",
        "colab_type": "text"
      },
      "source": [
        "트레이닝 루프"
      ]
    },
    {
      "cell_type": "markdown",
      "metadata": {
        "id": "8NjkXFnqNB5u",
        "colab_type": "text"
      },
      "source": [
        "# Setup"
      ]
    },
    {
      "cell_type": "code",
      "metadata": {
        "id": "h_TQrsPeM1D0",
        "colab_type": "code",
        "colab": {}
      },
      "source": [
        "import tensorflow as tf\n",
        "from tensorflow import keras\n",
        "from tensorflow.keras import layers\n",
        "import numpy as np"
      ],
      "execution_count": null,
      "outputs": []
    }
  ]
}