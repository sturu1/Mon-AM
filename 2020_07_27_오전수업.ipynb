{
  "nbformat": 4,
  "nbformat_minor": 0,
  "metadata": {
    "colab": {
      "name": "2020_07_27_오전수업.ipynb",
      "provenance": [],
      "toc_visible": true,
      "authorship_tag": "ABX9TyNOIEEeRerq9kCGhfPRPkI3",
      "include_colab_link": true
    },
    "kernelspec": {
      "name": "python3",
      "display_name": "Python 3"
    }
  },
  "cells": [
    {
      "cell_type": "markdown",
      "metadata": {
        "id": "view-in-github",
        "colab_type": "text"
      },
      "source": [
        "<a href=\"https://colab.research.google.com/github/sturu1/Mon-AM/blob/master/2020_07_27_%EC%98%A4%EC%A0%84%EC%88%98%EC%97%85.ipynb\" target=\"_parent\"><img src=\"https://colab.research.google.com/assets/colab-badge.svg\" alt=\"Open In Colab\"/></a>"
      ]
    },
    {
      "cell_type": "markdown",
      "metadata": {
        "id": "f1DiWfumy5gF",
        "colab_type": "text"
      },
      "source": [
        "## Funtional API를 사용하기 위한 기본 Setup\n",
        "외워야함. 익히면 편함\n",
        "\n",
        "https://chloevan.github.io/python/tensorflow2.0/ch8_2_transfer_learning/"
      ]
    },
    {
      "cell_type": "code",
      "metadata": {
        "id": "yFD4hb5jtCIJ",
        "colab_type": "code",
        "colab": {}
      },
      "source": [
        "import numpy as np\n",
        "import tensorflow as tf\n",
        "from tensorflow import keras\n",
        "from tensorflow.keras import layers"
      ],
      "execution_count": 28,
      "outputs": []
    },
    {
      "cell_type": "markdown",
      "metadata": {
        "id": "_lgyJmiPEdrI",
        "colab_type": "text"
      },
      "source": [
        "#sequential 을 Funtional로 바꿀수잇어야함\n",
        "#shape (32, 32, 3) (x, y , 채널)\n",
        "#784는 28 * 28 을 펼쳐  놓은것\n",
        "#funtional은 input 데이터 모양은 정해져야한다. \n",
        "#epoch는 책1권, batch_size는 1단원, Dense ,  중간층엔 activation 이  ,출력 activation 은  "
      ]
    },
    {
      "cell_type": "code",
      "metadata": {
        "id": "g3xjTB3B4Ee5",
        "colab_type": "code",
        "colab": {
          "base_uri": "https://localhost:8080/",
          "height": 527
        },
        "outputId": "d480b237-007c-448a-fd24-1bd8cae75887"
      },
      "source": [
        "#Funtional API를 사용하려면 \n",
        "#우선  input node를 항상 먼저 설정해줘야한다.\n",
        "inputs = keras.Input(shape=(784, ))#입력노드\n",
        "print(inputs.shape, inputs.dtype)\n",
        "\n",
        "dense = layers.Dense(64, activation='relu')#은닉층노드\n",
        "x = dense(inputs)\n",
        "outputs = layers.Dense(10)(x)#출력노드\n",
        "#=======그래프모델이 정의됨\n",
        "\n",
        "model = keras.Model(inputs = inputs, outputs = outputs, name = 'mnist_model')#처음inputs , outputs는 변수이다. 뒤에꺼는 입력노드, 출력노드이다.\n",
        "model.summary()\n",
        "\n",
        "keras.utils.plot_model(model, \"my_first_model.png\")#그래프로 가시화"
      ],
      "execution_count": 29,
      "outputs": [
        {
          "output_type": "stream",
          "text": [
            "(None, 784) <dtype: 'float32'>\n",
            "Model: \"mnist_model\"\n",
            "_________________________________________________________________\n",
            "Layer (type)                 Output Shape              Param #   \n",
            "=================================================================\n",
            "input_18 (InputLayer)        [(None, 784)]             0         \n",
            "_________________________________________________________________\n",
            "dense_15 (Dense)             (None, 64)                50240     \n",
            "_________________________________________________________________\n",
            "dense_16 (Dense)             (None, 10)                650       \n",
            "=================================================================\n",
            "Total params: 50,890\n",
            "Trainable params: 50,890\n",
            "Non-trainable params: 0\n",
            "_________________________________________________________________\n"
          ],
          "name": "stdout"
        },
        {
          "output_type": "execute_result",
          "data": {
            "image/png": "[encoded data removed]",
            "text/plain": [
              "<IPython.core.display.Image object>"
            ]
          },
          "metadata": {
            "tags": []
          },
          "execution_count": 29
        }
      ]
    },
    {
      "cell_type": "markdown",
      "metadata": {
        "id": "sYmCDrpyG3GH",
        "colab_type": "text"
      },
      "source": [
        "# 트레이닝, 평가, 추론\n",
        "\n",
        "1. 트레이닝, 평가, 추론 작업은 Sequential 모델링 방법과 동일하게 사용가능\n",
        "2. MNIST로딩, 벡터 reshape, 모델fit, evaluation순이다."
      ]
    },
    {
      "cell_type": "code",
      "metadata": {
        "id": "a3ejjgDUErFN",
        "colab_type": "code",
        "colab": {
          "base_uri": "https://localhost:8080/",
          "height": 136
        },
        "outputId": "8ccca687-d0ef-47be-ed65-bdda6d0aee3d"
      },
      "source": [
        "(x_train, y_train), (x_test, y_test) = keras.datasets.mnist.load_data()\n",
        "x_train = x_train.reshape(60000, 784).astype(\"float32\") / 255\n",
        "x_test = x_test.reshape(10000, 784).astype(\"float32\") / 255\n",
        "\n",
        "model.compile(loss = keras.losses.SparseCategoricalCrossentropy(from_logits=True),\n",
        "              optimizer = keras.optimizers.RMSprop(),\n",
        "              metrics = [\"accuracy\"])\n",
        "\n",
        "history = model.fit(x_train, y_train, batch_size = 64, epochs = 2, validation_split = 0.2)\n",
        "\n",
        "test_scores = model.evaluate(x_test, y_test, verbose = 2)\n",
        "print(\"test loss\", test_scores[0])\n",
        "print(\"test accuracy\", test_scores[1])"
      ],
      "execution_count": 30,
      "outputs": [
        {
          "output_type": "stream",
          "text": [
            "Epoch 1/2\n",
            "750/750 [==============================] - 2s 3ms/step - loss: 0.3742 - accuracy: 0.8959 - val_loss: 0.2130 - val_accuracy: 0.9388\n",
            "Epoch 2/2\n",
            "750/750 [==============================] - 2s 2ms/step - loss: 0.1921 - accuracy: 0.9445 - val_loss: 0.1626 - val_accuracy: 0.9529\n",
            "313/313 - 0s - loss: 0.1638 - accuracy: 0.9533\n",
            "test loss 0.16380411386489868\n",
            "test accuracy 0.9532999992370605\n"
          ],
          "name": "stdout"
        }
      ]
    },
    {
      "cell_type": "markdown",
      "metadata": {
        "id": "xfvaeVRTKE2v",
        "colab_type": "text"
      },
      "source": [
        "# 모델 저장(save) 및 직렬화(serialize)\n",
        "\n",
        "1. 저장된 파일은 아래와 같은 정보들로 저장됨\n",
        "*  model architecture\n",
        "*  model weight values\n",
        "*  model training config\n",
        "*  optimizer and its state "
      ]
    },
    {
      "cell_type": "code",
      "metadata": {
        "id": "Q-BxAyE8IeLC",
        "colab_type": "code",
        "colab": {
          "base_uri": "https://localhost:8080/",
          "height": 272
        },
        "outputId": "b3406c6b-17c0-45d9-9a56-77aa57dee952"
      },
      "source": [
        "model.save(\"path_to_my_model\")\n",
        "\n",
        "model = keras.models.load_model(\"path_to_my_model\")\n",
        "\n",
        "model.summary()"
      ],
      "execution_count": 31,
      "outputs": [
        {
          "output_type": "stream",
          "text": [
            "INFO:tensorflow:Assets written to: path_to_my_model/assets\n",
            "Model: \"mnist_model\"\n",
            "_________________________________________________________________\n",
            "Layer (type)                 Output Shape              Param #   \n",
            "=================================================================\n",
            "input_18 (InputLayer)        [(None, 784)]             0         \n",
            "_________________________________________________________________\n",
            "dense_15 (Dense)             (None, 64)                50240     \n",
            "_________________________________________________________________\n",
            "dense_16 (Dense)             (None, 10)                650       \n",
            "=================================================================\n",
            "Total params: 50,890\n",
            "Trainable params: 50,890\n",
            "Non-trainable params: 0\n",
            "_________________________________________________________________\n"
          ],
          "name": "stdout"
        }
      ]
    },
    {
      "cell_type": "markdown",
      "metadata": {
        "id": "83e5kpyVOnk2",
        "colab_type": "text"
      },
      "source": [
        "# 여러개의 모델정의를 위해 같은 그래프레이어 사용하기\n",
        "\n",
        "* 전체 오토인코더 모델에서 인코더 모델과 오토인코더모델 두 개의 모델 생성해보기"
      ]
    },
    {
      "cell_type": "code",
      "metadata": {
        "id": "K6ePFeyrLTOh",
        "colab_type": "code",
        "colab": {
          "base_uri": "https://localhost:8080/",
          "height": 969
        },
        "outputId": "03abcc76-beb1-468e-aa05-9d9f66e0f290"
      },
      "source": [
        "encoder_input = keras.Input(shape = (28, 28, 1), name = \"img\")\n",
        "x = layers.Conv2D(16, 3, activation = 'relu')(encoder_input)\n",
        "x = layers.Conv2D(32, 3, activation = 'relu')(x)\n",
        "x = layers.MaxPooling2D(3)(x)\n",
        "x = layers.Conv2D(32, 3, activation = 'relu')(x)\n",
        "x = layers.Conv2D(16, 3, activation = 'relu')(x)\n",
        "encoder_output = layers.GlobalMaxPooling2D()(x)\n",
        "#model1\n",
        "encoder = keras.Model(encoder_input, encoder_output, name = \"encoder\")\n",
        "\n",
        "encoder.summary()\n",
        "\n",
        "x = layers.Reshape((4, 4, 1))(encoder_output)\n",
        "x = layers.Conv2DTranspose(16, 3, activation =  'relu')(x)\n",
        "x = layers.Conv2DTranspose(32, 3, activation =  'relu')(x)\n",
        "x = layers.UpSampling2D(3)(x)\n",
        "x = layers.Conv2DTranspose(16, 3, activation =  'relu')(x)\n",
        "decoder_output = layers.Conv2DTranspose(1, 3, activation = 'relu')(x)\n",
        "\n",
        "#model2\n",
        "autoencoder = keras.Model(encoder_input, decoder_output, name = \"autoencoder\")\n",
        "autoencoder.summary()"
      ],
      "execution_count": 33,
      "outputs": [
        {
          "output_type": "stream",
          "text": [
            "Model: \"encoder\"\n",
            "_________________________________________________________________\n",
            "Layer (type)                 Output Shape              Param #   \n",
            "=================================================================\n",
            "img (InputLayer)             [(None, 28, 28, 1)]       0         \n",
            "_________________________________________________________________\n",
            "conv2d_5 (Conv2D)            (None, 26, 26, 16)        160       \n",
            "_________________________________________________________________\n",
            "conv2d_6 (Conv2D)            (None, 24, 24, 32)        4640      \n",
            "_________________________________________________________________\n",
            "max_pooling2d_1 (MaxPooling2 (None, 8, 8, 32)          0         \n",
            "_________________________________________________________________\n",
            "conv2d_7 (Conv2D)            (None, 6, 6, 32)          9248      \n",
            "_________________________________________________________________\n",
            "conv2d_8 (Conv2D)            (None, 4, 4, 16)          4624      \n",
            "_________________________________________________________________\n",
            "global_max_pooling2d_1 (Glob (None, 16)                0         \n",
            "=================================================================\n",
            "Total params: 18,672\n",
            "Trainable params: 18,672\n",
            "Non-trainable params: 0\n",
            "_________________________________________________________________\n",
            "Model: \"autoencoder\"\n",
            "_________________________________________________________________\n",
            "Layer (type)                 Output Shape              Param #   \n",
            "=================================================================\n",
            "img (InputLayer)             [(None, 28, 28, 1)]       0         \n",
            "_________________________________________________________________\n",
            "conv2d_5 (Conv2D)            (None, 26, 26, 16)        160       \n",
            "_________________________________________________________________\n",
            "conv2d_6 (Conv2D)            (None, 24, 24, 32)        4640      \n",
            "_________________________________________________________________\n",
            "max_pooling2d_1 (MaxPooling2 (None, 8, 8, 32)          0         \n",
            "_________________________________________________________________\n",
            "conv2d_7 (Conv2D)            (None, 6, 6, 32)          9248      \n",
            "_________________________________________________________________\n",
            "conv2d_8 (Conv2D)            (None, 4, 4, 16)          4624      \n",
            "_________________________________________________________________\n",
            "global_max_pooling2d_1 (Glob (None, 16)                0         \n",
            "_________________________________________________________________\n",
            "reshape_1 (Reshape)          (None, 4, 4, 1)           0         \n",
            "_________________________________________________________________\n",
            "conv2d_transpose_3 (Conv2DTr (None, 6, 6, 16)          160       \n",
            "_________________________________________________________________\n",
            "conv2d_transpose_4 (Conv2DTr (None, 8, 8, 32)          4640      \n",
            "_________________________________________________________________\n",
            "up_sampling2d_1 (UpSampling2 (None, 24, 24, 32)        0         \n",
            "_________________________________________________________________\n",
            "conv2d_transpose_5 (Conv2DTr (None, 26, 26, 16)        4624      \n",
            "_________________________________________________________________\n",
            "conv2d_transpose_6 (Conv2DTr (None, 28, 28, 1)         145       \n",
            "=================================================================\n",
            "Total params: 28,241\n",
            "Trainable params: 28,241\n",
            "Non-trainable params: 0\n",
            "_________________________________________________________________\n"
          ],
          "name": "stdout"
        }
      ]
    },
    {
      "cell_type": "code",
      "metadata": {
        "id": "UtpGKFWAPw0e",
        "colab_type": "code",
        "colab": {}
      },
      "source": [
        ""
      ],
      "execution_count": null,
      "outputs": []
    }
  ]
}