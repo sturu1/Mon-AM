{
  "nbformat": 4,
  "nbformat_minor": 0,
  "metadata": {
    "colab": {
      "name": "2020_08_10_오전수업_ResNet .ipynb",
      "provenance": [],
      "authorship_tag": "ABX9TyOlyxxd34NscSVpFQGidCFV",
      "include_colab_link": true
    },
    "kernelspec": {
      "name": "python3",
      "display_name": "Python 3"
    },
    "accelerator": "GPU"
  },
  "cells": [
    {
      "cell_type": "markdown",
      "metadata": {
        "id": "view-in-github",
        "colab_type": "text"
      },
      "source": [
        "<a href=\"https://colab.research.google.com/github/sturu1/Mon-AM/blob/master/2020_08_10_%EC%98%A4%EC%A0%84%EC%88%98%EC%97%85_ResNet_.ipynb\" target=\"_parent\"><img src=\"https://colab.research.google.com/assets/colab-badge.svg\" alt=\"Open In Colab\"/></a>"
      ]
    },
    {
      "cell_type": "markdown",
      "metadata": {
        "id": "qmzyDmurzR5b",
        "colab_type": "text"
      },
      "source": [
        "# Callable class\n",
        "\n",
        "\n",
        "\n",
        "\n",
        "*    \\_\\_init\\_\\_ 에서는 상태(변수들..) 정의(노드, 레이어들 정의)\n",
        "*    \\_\\_call\\_\\_ 애서는 변수들 연산자와 연결(in tf, 노드 연결성 부여)\n",
        "\n",
        "\n"
      ]
    },
    {
      "cell_type": "code",
      "metadata": {
        "id": "RnmSvEjlv8du",
        "colab_type": "code",
        "colab": {
          "base_uri": "https://localhost:8080/",
          "height": 215
        },
        "outputId": "35c1e55a-a00a-42c0-a965-0a03e9c630eb"
      },
      "source": [
        "class Test:\n",
        "  def myPrint(self):\n",
        "    print(\"test\")\n",
        "\n",
        "instance = Test()\n",
        "instance.myPrint()\n",
        "\n",
        "class CallableTest():\n",
        "  def __init__(self):\n",
        "    self.a = 10\n",
        "    self.b = 20\n",
        "  \n",
        "  def addition(self, x1, x2):\n",
        "    return x1 + x2\n",
        "\n",
        "  def __call__(self):\n",
        "    print(\"call test\")\n",
        "    c = self.addition(self.a, self.b)\n",
        "    return c\n",
        "\n",
        "instance2 = CallableTest()\n",
        "print(c)"
      ],
      "execution_count": 24,
      "outputs": [
        {
          "output_type": "stream",
          "text": [
            "test\n"
          ],
          "name": "stdout"
        },
        {
          "output_type": "error",
          "ename": "NameError",
          "evalue": "ignored",
          "traceback": [
            "\u001b[0;31m---------------------------------------------------------------------------\u001b[0m",
            "\u001b[0;31mNameError\u001b[0m                                 Traceback (most recent call last)",
            "\u001b[0;32m<ipython-input-24-c10e4b689ec7>\u001b[0m in \u001b[0;36m<module>\u001b[0;34m()\u001b[0m\n\u001b[1;32m     20\u001b[0m \u001b[0;34m\u001b[0m\u001b[0m\n\u001b[1;32m     21\u001b[0m \u001b[0minstance2\u001b[0m \u001b[0;34m=\u001b[0m \u001b[0mCallableTest\u001b[0m\u001b[0;34m(\u001b[0m\u001b[0;34m)\u001b[0m\u001b[0;34m\u001b[0m\u001b[0;34m\u001b[0m\u001b[0m\n\u001b[0;32m---> 22\u001b[0;31m \u001b[0mprint\u001b[0m\u001b[0;34m(\u001b[0m\u001b[0mc\u001b[0m\u001b[0;34m)\u001b[0m\u001b[0;34m\u001b[0m\u001b[0;34m\u001b[0m\u001b[0m\n\u001b[0m",
            "\u001b[0;31mNameError\u001b[0m: name 'c' is not defined"
          ]
        }
      ]
    },
    {
      "cell_type": "markdown",
      "metadata": {
        "id": "LGk7iu_V8yuq",
        "colab_type": "text"
      },
      "source": [
        "# 커스텀 레이어\n"
      ]
    },
    {
      "cell_type": "markdown",
      "metadata": {
        "id": "rr91NTF9-boP",
        "colab_type": "text"
      },
      "source": [
        "#ResNet 구현하기\n",
        "![대체 텍스트](https://t1.daumcdn.net/cfile/tistory/99340B395D3EB59027?download)\n",
        "\n",
        "\n",
        "*   Residual Unit\n",
        "*   Residual Layer\n",
        "*   ResNet\n",
        "*   3개의 클래스를 구성하여 완성해보기"
      ]
    },
    {
      "cell_type": "markdown",
      "metadata": {
        "id": "G8oGJ7NN-siw",
        "colab_type": "text"
      },
      "source": [
        "# 하이퍼파라메터"
      ]
    },
    {
      "cell_type": "code",
      "metadata": {
        "id": "-nkMJkkVzYiR",
        "colab_type": "code",
        "colab": {}
      },
      "source": [
        "import tensorflow as tf\n",
        "import numpy as np\n",
        "\n",
        "EPOCHS = 5"
      ],
      "execution_count": 25,
      "outputs": []
    },
    {
      "cell_type": "markdown",
      "metadata": {
        "id": "RBy0Ui28-6rg",
        "colab_type": "text"
      },
      "source": [
        "# Residual Unit 구현\n",
        "\n",
        "![대체 텍스트](https://media.arxiv-vanity.com/render-output/3759680/x1.png)"
      ]
    },
    {
      "cell_type": "code",
      "metadata": {
        "id": "XyXypWiH-3o1",
        "colab_type": "code",
        "colab": {}
      },
      "source": [
        "class ResidualUnit(tf.keras.Model):\n",
        "  def __init__(self, filter_in, filter_out, kernel_size):\n",
        "    super(ResidualUnit, self).__init__()\n",
        "    self.bn1 = tf.keras.layers.BatchNormalization()\n",
        "    self.conv1 = tf.keras.layers.Conv2D(filter_out, kernel_size, padding = 'same')\n",
        "\n",
        "    self.bn2 = tf.keras.layers.BatchNormalization()\n",
        "    self.conv2 = tf.keras.layers.Conv2D(filter_out, kernel_size, padding = 'same')\n",
        "\n",
        "    if filter_in == filter_out: # 입력과 출력 채널이 같다면\n",
        "      self.identity = lambda x : x\n",
        "    else:\n",
        "      self.identity = tf.keras.layers.Conv2D(filter_out, (1, 1), padding = 'same')#(1, 1)은 자기 자신을 뜻한다.\n",
        "\n",
        "#BN은 훈련할때, 테스트 할때 서로 달라져야함, 그래서 Faslse로 셋팅\n",
        "  def call(self, x, training = False, mask = None):\n",
        "\n",
        "    h = self.bn1(x, training = training)\n",
        "    h = tf.nn.relu(h)\n",
        "    h= self.conv1(h)\n",
        "\n",
        "    h = self.bn2(x, training = training)\n",
        "    h = tf.nn.relu(h)\n",
        "    h= self.conv2(h)\n",
        "\n",
        "    return self.identity(x) + h"
      ],
      "execution_count": 26,
      "outputs": []
    },
    {
      "cell_type": "markdown",
      "metadata": {
        "id": "jaOYweBYCxii",
        "colab_type": "text"
      },
      "source": [
        "#Residual Layer 구현\n"
      ]
    },
    {
      "cell_type": "code",
      "metadata": {
        "id": "WME9E0a9BAjI",
        "colab_type": "code",
        "colab": {}
      },
      "source": [
        "class ResidualLayer(tf.keras.Model):\n",
        "  def __init__(self, filter_in, filters, kernel_size):\n",
        "    super(ResnetLayer, self).__init__()\n",
        "    self.sequence = list()\n",
        "    InOutFilters = zip([filter_in] + list(filters), filters)\n",
        "    # 만약 filter_in = 8, filter_out = (16,16) 일때\n",
        "    #(8, 16)\n",
        "    #(16, 16)\n",
        "    #이런식으로 필터 개수의 쌍들이 만들어 질 것임\n",
        "    for f_in, f_out in InOutFilters:\n",
        "      self.sequence.append(ResidualUnit(f_in, f_out, kernel_size))\n",
        "\n",
        "  def call(self, x, training = False, mask = None):\n",
        "    for unit in self.sequence:\n",
        "      x = unit(x, training = training)"
      ],
      "execution_count": 27,
      "outputs": []
    },
    {
      "cell_type": "markdown",
      "metadata": {
        "id": "uBRBFKnFJYmh",
        "colab_type": "text"
      },
      "source": [
        "# ResNet 모델 정의\n",
        "\n",
        "![대체 텍스트](https://lh3.googleusercontent.com/proxy/wWxWznVsQShuBSzC_VaS-lDAABEESIJYSnuitV0dchEA4GarGJarJVm2ZvdGXIvVFC2HxI8sYc43IvSDw3qj1hi14Ur5pXST-HOLKQ0Hh_hZDuGu9iforEV3J0-mTXXWDvHTmzcDHAEImLrIn2Nxa4nFsptTkOvfboP5aEoFqqv0w1kg73p8gA)"
      ]
    },
    {
      "cell_type": "code",
      "metadata": {
        "id": "Vu3XbtigFrUu",
        "colab_type": "code",
        "colab": {}
      },
      "source": [
        "class ResNet(tf.keras.Model):#여기 이상함\n",
        "  def __init__(self):\n",
        "    super(ResNet, self).__init__()\n",
        "\n",
        "    self.conv1 = tf.keras.layers.Conv2D(8, (3, 3), padding = 'same', activation = 'relu', input_shape = (28, 28, 1))\n",
        "\n",
        "    self.res1 = ResNetLayer(8, (16, 16), (3, 3))\n",
        "    self.pool1 = tf.keras.layers.MaxPool2D((2, 2))\n",
        "\n",
        "    self.res2 = ResNetLayer(16, (32, 32), (3, 3))\n",
        "    self.pool2 = tf.keras.layers.MaxPool2D((2, 2))\n",
        "\n",
        "    self.res3 = ResNetLayer(32, (64, 64), (3, 3))\n",
        "\n",
        "    self.flatten = tf.keras.layers.Flatten()\n",
        "    self.dense1 = tf.keras.layers.Dense(128, activation = 'relu')\n",
        "    self.dense2 = tf.keras.layers.Dense(128, activation = 'softmax')\n",
        "\n",
        "    self.Latnet = 0\n",
        "    \n",
        "  def call(self, x, training = False, mask = None):\n",
        "    x = self.conv1(x)\n",
        "\n",
        "    x = self.res1(x, training = training)\n",
        "    x = self.pool1(x)\n",
        "    x = self.res2(x, training = training)\n",
        "    x = self.pool2(x)\n",
        "    x = self.res3(x, training = training)\n",
        "\n",
        "    self.Latent = self.flatten(x)\n",
        "    x = self.dense(self.Latent)\n",
        "    x = self.dense2(x)\n"
      ],
      "execution_count": 28,
      "outputs": []
    },
    {
      "cell_type": "markdown",
      "metadata": {
        "id": "fnbrTg_4LqNX",
        "colab_type": "text"
      },
      "source": [
        "# 학습, 테스트 루프 정의"
      ]
    },
    {
      "cell_type": "code",
      "metadata": {
        "id": "sxTdiIoZLWHr",
        "colab_type": "code",
        "colab": {}
      },
      "source": [
        "@tf.function\n",
        "def train_step(model, images, labels, loss_objet, optimizer, train_loss, train_accuracy):\n",
        "  with tf.GrandientTape() as tape:\n",
        "    predictions = model(images, training = True)\n",
        "    loss = loss_object(labels, predictions)\n",
        "  gradients = tape.gradient(loss, model.trainable_varlables)\n",
        "\n",
        "  optimizer.applu_gradients(zip(gradients, model.trainable_varlables))\n",
        "  train_loss(loss)\n",
        "  train_accuracy(labels, predictions)\n",
        "\n",
        "@tf.function\n",
        "def test_step(model, images, labels, loss_objet, optimizer, train_loss, train_accuracy):\n",
        "  predictions = model(images, training = False)\n",
        "  t_loss = loss_object(labels, predictions)\n",
        "  test_loss(t_loss)\n",
        "  test_accuracy(labels, predictions)"
      ],
      "execution_count": 29,
      "outputs": []
    },
    {
      "cell_type": "markdown",
      "metadata": {
        "id": "Ep2FMSrXM5hQ",
        "colab_type": "text"
      },
      "source": [
        "#데이터셋 준비"
      ]
    },
    {
      "cell_type": "code",
      "metadata": {
        "id": "k5zAV4ZgLvSx",
        "colab_type": "code",
        "colab": {}
      },
      "source": [
        "mnist = tf.keras.datasets.mnist\n",
        "(x_train, y_train), (x_test, y_test) = mnist.load_data()\n",
        "x_train, x_test = x_train / 255.0, x_test / 255.0\n",
        "\n",
        "x_train = x_train[..., tf.newaxis].astype(np.float32)\n",
        "x_test = x_test[..., tf.newaxis].astype(np.float32)\n",
        "\n",
        "train_ds = tf.data.Dataset.from_tensor_slices((x_train, y_train)).shuffle(10000).batch(32)\n",
        "test_ds = tf.data.Dataset.from_tensor_slices((x_test, y_test)).batch(32)"
      ],
      "execution_count": 30,
      "outputs": []
    },
    {
      "cell_type": "code",
      "metadata": {
        "id": "AuLeNvf3NCjf",
        "colab_type": "code",
        "colab": {
          "base_uri": "https://localhost:8080/",
          "height": 351
        },
        "outputId": "1d35b6df-d891-4531-a513-ec0c1a5909fc"
      },
      "source": [
        "model = ResNet()\n",
        "#손실함수, 최적화알고리즘 인스턴스 생성\n",
        "loss_object = tf.keras.losses.SparseCategoricalCrossentropy()\n",
        "optimizer = tf.keras.optimizers.Adam()\n",
        "#성능측정, 지표 인스턴스 생성\n",
        "train_loss = tf.keras.mertics.Mean(name = 'train_loss')\n",
        "train_accuracy = tf.keras.metrics.SparseCategoricalCrossentropy(name = 'train_accuracy')\n",
        "\n",
        "test_loss = tf.keras.mertics.Mean(name = 'test_loss')\n",
        "test_accuracy = tf.keras.metrics.SparseCategoricalCrossentropy(name = 'test_accuracy')"
      ],
      "execution_count": 31,
      "outputs": [
        {
          "output_type": "error",
          "ename": "NameError",
          "evalue": "ignored",
          "traceback": [
            "\u001b[0;31m---------------------------------------------------------------------------\u001b[0m",
            "\u001b[0;31mNameError\u001b[0m                                 Traceback (most recent call last)",
            "\u001b[0;32m<ipython-input-31-13967837bfa0>\u001b[0m in \u001b[0;36m<module>\u001b[0;34m()\u001b[0m\n\u001b[0;32m----> 1\u001b[0;31m \u001b[0mmodel\u001b[0m \u001b[0;34m=\u001b[0m \u001b[0mResNet\u001b[0m\u001b[0;34m(\u001b[0m\u001b[0;34m)\u001b[0m\u001b[0;34m\u001b[0m\u001b[0;34m\u001b[0m\u001b[0m\n\u001b[0m\u001b[1;32m      2\u001b[0m \u001b[0;31m#손실함수, 최적화알고리즘 인스턴스 생성\u001b[0m\u001b[0;34m\u001b[0m\u001b[0;34m\u001b[0m\u001b[0;34m\u001b[0m\u001b[0m\n\u001b[1;32m      3\u001b[0m \u001b[0mloss_object\u001b[0m \u001b[0;34m=\u001b[0m \u001b[0mtf\u001b[0m\u001b[0;34m.\u001b[0m\u001b[0mkeras\u001b[0m\u001b[0;34m.\u001b[0m\u001b[0mlosses\u001b[0m\u001b[0;34m.\u001b[0m\u001b[0mSparseCategoricalCrossentropy\u001b[0m\u001b[0;34m(\u001b[0m\u001b[0;34m)\u001b[0m\u001b[0;34m\u001b[0m\u001b[0;34m\u001b[0m\u001b[0m\n\u001b[1;32m      4\u001b[0m \u001b[0moptimizer\u001b[0m \u001b[0;34m=\u001b[0m \u001b[0mtf\u001b[0m\u001b[0;34m.\u001b[0m\u001b[0mkeras\u001b[0m\u001b[0;34m.\u001b[0m\u001b[0moptimizers\u001b[0m\u001b[0;34m.\u001b[0m\u001b[0mAdam\u001b[0m\u001b[0;34m(\u001b[0m\u001b[0;34m)\u001b[0m\u001b[0;34m\u001b[0m\u001b[0;34m\u001b[0m\u001b[0m\n\u001b[1;32m      5\u001b[0m \u001b[0;31m#성능측정, 지표 인스턴스 생성\u001b[0m\u001b[0;34m\u001b[0m\u001b[0;34m\u001b[0m\u001b[0;34m\u001b[0m\u001b[0m\n",
            "\u001b[0;32m<ipython-input-28-ca88a370a80b>\u001b[0m in \u001b[0;36m__init__\u001b[0;34m(self)\u001b[0m\n\u001b[1;32m      5\u001b[0m     \u001b[0mself\u001b[0m\u001b[0;34m.\u001b[0m\u001b[0mconv1\u001b[0m \u001b[0;34m=\u001b[0m \u001b[0mtf\u001b[0m\u001b[0;34m.\u001b[0m\u001b[0mkeras\u001b[0m\u001b[0;34m.\u001b[0m\u001b[0mlayers\u001b[0m\u001b[0;34m.\u001b[0m\u001b[0mConv2D\u001b[0m\u001b[0;34m(\u001b[0m\u001b[0;36m8\u001b[0m\u001b[0;34m,\u001b[0m \u001b[0;34m(\u001b[0m\u001b[0;36m3\u001b[0m\u001b[0;34m,\u001b[0m \u001b[0;36m3\u001b[0m\u001b[0;34m)\u001b[0m\u001b[0;34m,\u001b[0m \u001b[0mpadding\u001b[0m \u001b[0;34m=\u001b[0m \u001b[0;34m'same'\u001b[0m\u001b[0;34m,\u001b[0m \u001b[0mactivation\u001b[0m \u001b[0;34m=\u001b[0m \u001b[0;34m'relu'\u001b[0m\u001b[0;34m,\u001b[0m \u001b[0minput_shape\u001b[0m \u001b[0;34m=\u001b[0m \u001b[0;34m(\u001b[0m\u001b[0;36m28\u001b[0m\u001b[0;34m,\u001b[0m \u001b[0;36m28\u001b[0m\u001b[0;34m,\u001b[0m \u001b[0;36m1\u001b[0m\u001b[0;34m)\u001b[0m\u001b[0;34m)\u001b[0m\u001b[0;34m\u001b[0m\u001b[0;34m\u001b[0m\u001b[0m\n\u001b[1;32m      6\u001b[0m \u001b[0;34m\u001b[0m\u001b[0m\n\u001b[0;32m----> 7\u001b[0;31m     \u001b[0mself\u001b[0m\u001b[0;34m.\u001b[0m\u001b[0mres1\u001b[0m \u001b[0;34m=\u001b[0m \u001b[0mResNetLayer\u001b[0m\u001b[0;34m(\u001b[0m\u001b[0;36m8\u001b[0m\u001b[0;34m,\u001b[0m \u001b[0;34m(\u001b[0m\u001b[0;36m16\u001b[0m\u001b[0;34m,\u001b[0m \u001b[0;36m16\u001b[0m\u001b[0;34m)\u001b[0m\u001b[0;34m,\u001b[0m \u001b[0;34m(\u001b[0m\u001b[0;36m3\u001b[0m\u001b[0;34m,\u001b[0m \u001b[0;36m3\u001b[0m\u001b[0;34m)\u001b[0m\u001b[0;34m)\u001b[0m\u001b[0;34m\u001b[0m\u001b[0;34m\u001b[0m\u001b[0m\n\u001b[0m\u001b[1;32m      8\u001b[0m     \u001b[0mself\u001b[0m\u001b[0;34m.\u001b[0m\u001b[0mpool1\u001b[0m \u001b[0;34m=\u001b[0m \u001b[0mtf\u001b[0m\u001b[0;34m.\u001b[0m\u001b[0mkeras\u001b[0m\u001b[0;34m.\u001b[0m\u001b[0mlayers\u001b[0m\u001b[0;34m.\u001b[0m\u001b[0mMaxPool2D\u001b[0m\u001b[0;34m(\u001b[0m\u001b[0;34m(\u001b[0m\u001b[0;36m2\u001b[0m\u001b[0;34m,\u001b[0m \u001b[0;36m2\u001b[0m\u001b[0;34m)\u001b[0m\u001b[0;34m)\u001b[0m\u001b[0;34m\u001b[0m\u001b[0;34m\u001b[0m\u001b[0m\n\u001b[1;32m      9\u001b[0m \u001b[0;34m\u001b[0m\u001b[0m\n",
            "\u001b[0;31mNameError\u001b[0m: name 'ResNetLayer' is not defined"
          ]
        }
      ]
    },
    {
      "cell_type": "markdown",
      "metadata": {
        "id": "19794P-TPoqo",
        "colab_type": "text"
      },
      "source": [
        "# 학습 루프 동작"
      ]
    },
    {
      "cell_type": "code",
      "metadata": {
        "id": "i75Bn68cOqfU",
        "colab_type": "code",
        "colab": {}
      },
      "source": [
        "for epoch in range(EPOCHS):\n",
        "  for images, labels in train_ds:\n",
        "    train_step(model, images, labels, loss_object, optimizer, train_loss, train_accuracy)\n",
        "  \n",
        "  for test_images, test_labels in test_ds:\n",
        "    train_step(model, test_images, test_labels, loss_object, optimizer, test_loss, test_accuracy)\n",
        "\n",
        "  templete = 'epoch {}, loss: {}, test loss: {}, test acc: {}'\n",
        "\n",
        "  print(templete.format(epoch + 1, train_loss.result(), train_accuracy.result(), test_loss.result(), test_accuracy.result()))\n",
        "\n",
        "  train_loss.result_states()\n",
        "  train_accuracy.result_states()\n",
        "  test_loss.result_states()\n",
        "  test_accuracy.result_states()"
      ],
      "execution_count": null,
      "outputs": []
    }
  ]
}