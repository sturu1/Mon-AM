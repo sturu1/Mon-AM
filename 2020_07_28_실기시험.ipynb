{
  "nbformat": 4,
  "nbformat_minor": 0,
  "metadata": {
    "colab": {
      "name": "2020_07_28_실기시험.ipynb",
      "provenance": [],
      "collapsed_sections": [],
      "authorship_tag": "ABX9TyMB5zA3sroqLpz0f/GqsDvl",
      "include_colab_link": true
    },
    "kernelspec": {
      "name": "python3",
      "display_name": "Python 3"
    }
  },
  "cells": [
    {
      "cell_type": "markdown",
      "metadata": {
        "id": "view-in-github",
        "colab_type": "text"
      },
      "source": [
        "<a href=\"https://colab.research.google.com/github/sturu1/Mon-AM/blob/master/2020_07_28_%EC%8B%A4%EA%B8%B0%EC%8B%9C%ED%97%98.ipynb\" target=\"_parent\"><img src=\"https://colab.research.google.com/assets/colab-badge.svg\" alt=\"Open In Colab\"/></a>"
      ]
    },
    {
      "cell_type": "markdown",
      "metadata": {
        "id": "kakDz0yL1DWF",
        "colab_type": "text"
      },
      "source": [
        "# 1. Simoid 함수"
      ]
    },
    {
      "cell_type": "code",
      "metadata": {
        "id": "iT7QQH280aIa",
        "colab_type": "code",
        "colab": {}
      },
      "source": [
        "def sigmoid(x):\n",
        "  result = 1 / (1 + math.exp(-x))"
      ],
      "execution_count": null,
      "outputs": []
    },
    {
      "cell_type": "markdown",
      "metadata": {
        "id": "Okz8G_q01IQA",
        "colab_type": "text"
      },
      "source": [
        "# 1. tanh 함수"
      ]
    },
    {
      "cell_type": "code",
      "metadata": {
        "id": "zyPUeuMA1Kpq",
        "colab_type": "code",
        "colab": {}
      },
      "source": [
        "def tanh(x):\n",
        "  result = (math.exp(x) - math.exp(-x)) / (math.exp(x) + math.exp(-x))"
      ],
      "execution_count": 1,
      "outputs": []
    },
    {
      "cell_type": "markdown",
      "metadata": {
        "id": "SbPx_Bf21atx",
        "colab_type": "text"
      },
      "source": [
        "# 2."
      ]
    },
    {
      "cell_type": "code",
      "metadata": {
        "id": "6MVw-2e41TUe",
        "colab_type": "code",
        "colab": {}
      },
      "source": [
        "model = tf.keras.Sequential()\n",
        "model.add(tf.keras.layers.Dense(48, activation = 'relu', input_shape=(12,)))\n",
        "model.add(tf.keras.layers.Dense(24, activation = 'relu'))\n",
        "model.add(tf.keras.layers.Dense(12, activation = 'relu'))\n",
        "model.add(tf.keras.layers.Dense(2, activation = 'softmax'))"
      ],
      "execution_count": null,
      "outputs": []
    },
    {
      "cell_type": "markdown",
      "metadata": {
        "id": "aYP7Yaqi18RS",
        "colab_type": "text"
      },
      "source": [
        "# 3."
      ]
    },
    {
      "cell_type": "code",
      "metadata": {
        "id": "adXPBhiZ15UE",
        "colab_type": "code",
        "colab": {}
      },
      "source": [
        "import math\n",
        "import numpy as np\n",
        "import matplotlib.pyplot as plt\n",
        "\n",
        "def softmax(logits):\n",
        "  exp_logits = np.exp(logits)\n",
        "  sum_exp_logits = np.sum(exp_logits)\n",
        "  P = exp_logits / sum_exp_logits\n",
        "  return P\n",
        "\n",
        "logits = np.array([3, 5, 1, 7])\n",
        "\n",
        "P = softmax(logits)\n",
        "\n",
        "print(P)"
      ],
      "execution_count": null,
      "outputs": []
    },
    {
      "cell_type": "markdown",
      "metadata": {
        "id": "QzxDrb4e3pSi",
        "colab_type": "text"
      },
      "source": [
        "# 4."
      ]
    },
    {
      "cell_type": "code",
      "metadata": {
        "id": "b9hDv6l-2Sj9",
        "colab_type": "code",
        "colab": {}
      },
      "source": [
        "import math\n",
        "import numpy as np\n",
        "import matplotlib.pyplot as plt\n",
        "\n",
        "logits = np.array([3, 5, 1, 7, 4])\n",
        "labels = np.array([0, 1, 0, 0, 0])\n",
        "\n",
        "n = len(logits)\n",
        "\n",
        "P = softmax(logits)\n",
        "\n",
        "CCE = CCE = -np.sum(label * np.log(P)) / n"
      ],
      "execution_count": null,
      "outputs": []
    },
    {
      "cell_type": "markdown",
      "metadata": {
        "id": "sk54PvhH6GbL",
        "colab_type": "text"
      },
      "source": [
        "# 5."
      ]
    },
    {
      "cell_type": "code",
      "metadata": {
        "id": "OiygPlpd6bzr",
        "colab_type": "code",
        "colab": {}
      },
      "source": [
        "#sobel filter for dx\n",
        "kernelX = [[-1, 0, 1],\n",
        "           [-2, 0, 2],\n",
        "           [-1, 0, 1]]\n",
        "#sobel filter for dy\n",
        "kernelY = [[1, 2, 1],\n",
        "           [0, 0, 0],\n",
        "           [-1, -2, -1]]"
      ],
      "execution_count": 6,
      "outputs": []
    },
    {
      "cell_type": "markdown",
      "metadata": {
        "id": "S-tQuvmP6y9J",
        "colab_type": "text"
      },
      "source": [
        "# 6."
      ]
    },
    {
      "cell_type": "code",
      "metadata": {
        "id": "2DsNQnmc7FPD",
        "colab_type": "code",
        "colab": {}
      },
      "source": [
        "def convolution(kernel, img):\n",
        "  kY, kX = getDimension(kernel)\n",
        "  nY, nX = getDimension(img)\n",
        "  \n",
        "  templmg = np.zeros((nX, nY), dtype = 'float32')\n",
        "\n",
        "  for j in range(1, nY-1):\n",
        "    for i in range(1,nX-1):\n",
        "      for l in range(0, kY):\n",
        "        for k in range(0, kX):\n",
        "          templmg[i, j] += img[i + k-1, j+l-1]* kernel[k, l]\n",
        "\n",
        "\n",
        "  return templmg"
      ],
      "execution_count": null,
      "outputs": []
    }
  ]
}