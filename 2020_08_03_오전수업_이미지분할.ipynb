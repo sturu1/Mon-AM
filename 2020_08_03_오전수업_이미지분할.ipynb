{
  "nbformat": 4,
  "nbformat_minor": 0,
  "metadata": {
    "colab": {
      "name": "2020_08_03_오전수업_이미지분할.ipynb",
      "provenance": [],
      "authorship_tag": "ABX9TyMBy7wYrocbbxJ22+gIkZ/A",
      "include_colab_link": true
    },
    "kernelspec": {
      "name": "python3",
      "display_name": "Python 3"
    }
  },
  "cells": [
    {
      "cell_type": "markdown",
      "metadata": {
        "id": "view-in-github",
        "colab_type": "text"
      },
      "source": [
        "<a href=\"https://colab.research.google.com/github/sturu1/Mon-AM/blob/master/2020_08_03_%EC%98%A4%EC%A0%84%EC%88%98%EC%97%85_%EC%9D%B4%EB%AF%B8%EC%A7%80%EB%B6%84%ED%95%A0.ipynb\" target=\"_parent\"><img src=\"https://colab.research.google.com/assets/colab-badge.svg\" alt=\"Open In Colab\"/></a>"
      ]
    },
    {
      "cell_type": "markdown",
      "metadata": {
        "id": "nnPtB5iVuOKr",
        "colab_type": "text"
      },
      "source": [
        "# 이미지 분할\n",
        "\n",
        "https://chloevan.github.io/python/tensorflow2.0/ch9_5_image_segmentation/\n",
        "\n",
        "https://medium.com/hyunjulie/1%ED%8E%B8-semantic-segmentation-%EC%B2%AB%EA%B1%B8%EC%9D%8C-4180367ec9cb\n",
        "\n",
        "https://www.whydsp.org/318\n",
        "\n",
        "https://divamgupta.com/image-segmentation/2019/06/06/deep-learning-semantic-segmentation-keras.html"
      ]
    },
    {
      "cell_type": "code",
      "metadata": {
        "id": "7EN7lNpKqakm",
        "colab_type": "code",
        "colab": {}
      },
      "source": [
        ""
      ],
      "execution_count": null,
      "outputs": []
    }
  ]
}