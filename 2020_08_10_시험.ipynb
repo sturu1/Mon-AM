{
  "nbformat": 4,
  "nbformat_minor": 0,
  "metadata": {
    "colab": {
      "name": "2020_08_10_시험.ipynb",
      "provenance": [],
      "authorship_tag": "ABX9TyNUrhWb6JPqwl6lSsH55NXs",
      "include_colab_link": true
    },
    "kernelspec": {
      "name": "python3",
      "display_name": "Python 3"
    },
    "accelerator": "GPU"
  },
  "cells": [
    {
      "cell_type": "markdown",
      "metadata": {
        "id": "view-in-github",
        "colab_type": "text"
      },
      "source": [
        "<a href=\"https://colab.research.google.com/github/sturu1/Mon-AM/blob/master/2020_08_10_%EC%8B%9C%ED%97%98.ipynb\" target=\"_parent\"><img src=\"https://colab.research.google.com/assets/colab-badge.svg\" alt=\"Open In Colab\"/></a>"
      ]
    },
    {
      "cell_type": "markdown",
      "metadata": {
        "id": "gGcQe0shxYSj",
        "colab_type": "text"
      },
      "source": [
        "# 1."
      ]
    },
    {
      "cell_type": "code",
      "metadata": {
        "id": "vgTPM-UvxPWT",
        "colab_type": "code",
        "colab": {}
      },
      "source": [
        "model = tf.keras.Sequential([\n",
        "                             tf.keras.layers.Flatten(input_shape = (28, 28)),\n",
        "                             tf.keras.layers.Dense(units = 512, activation = 'relu'),\n",
        "                             tf.keras.layers.Dense(units = 128, activation = 'relu'),\n",
        "                             tf.keras.layers.Dense(units = 10, activation = 'softmax')\n",
        "])\n",
        "\n",
        "model.compile(optimizer = tf.keras.optimizers.Adam(),\n",
        "               loss = 'sparse_categorical_crossentropy',\n",
        "               metrics = ['accuracy']\n",
        "               )\n",
        "\n",
        "model.summary()\n",
        "\n",
        "history = model.fit(train_X, train_Y, epochs = 25, validation_split = 0.25)"
      ],
      "execution_count": null,
      "outputs": []
    },
    {
      "cell_type": "markdown",
      "metadata": {
        "id": "YzS0HCHMxaH6",
        "colab_type": "text"
      },
      "source": [
        "# 2. 수정필요"
      ]
    },
    {
      "cell_type": "code",
      "metadata": {
        "id": "avcIOEQFxbBL",
        "colab_type": "code",
        "colab": {}
      },
      "source": [
        "import tensorflow as tf\n",
        "import matplotlib.pyplot as plt\n",
        "\n",
        "\n",
        "fashion_mnist = tf.keras.datasets.fashion_mnist\n",
        "(train_X, train_Y), (test_X, test_Y) = fashion_mnist.load_data()\n",
        "\n",
        "\n",
        "train_X = train_X / 255.0\n",
        "test_X = test_X / 255.0\n",
        "\n",
        "train_X = train_X.reshape(-1, 28, 28, 1)\n",
        "test_X = test_X.reshape(-1, 28, 28, 1)\n",
        "\n",
        "\n",
        "model = tf.keras.Sequential([\n",
        "                             tf.keras.layers.Conv2D(input_shape = (28,28,1), kernel_size = (3, 3), filters = 32),\n",
        "                             tf.keras.layers.MaxPool2D(pool_size=(2, 2)),\n",
        "                             tf.keras.layers.Conv2D(kernel_size = (3, 3), filters = 64),\n",
        "                             tf.keras.layers.MaxPool2D(pool_size=(2, 2)),\n",
        "                             tf.keras.layers.Conv2D(kernel_size = (3, 3), filters = 128),\n",
        "                             tf.keras.layers.Flatten(input_shape = (28, 28)),\n",
        "                             tf.keras.layers.Dense(units = 128, activation = 'relu'),\n",
        "                             tf.keras.layers.Dense(units = 10, activation = 'softmax')\n",
        "])\n",
        "\n",
        "model.compile(optimizer = tf.keras.optimizers.Adam(),\n",
        "              loss = 'sparse_categorical_crossentropy',\n",
        "              metrics = ['accuracy']\n",
        "              )\n",
        "\n",
        "model.summary()"
      ],
      "execution_count": null,
      "outputs": []
    },
    {
      "cell_type": "markdown",
      "metadata": {
        "id": "G5_Czxu3xbji",
        "colab_type": "text"
      },
      "source": [
        "# 3."
      ]
    },
    {
      "cell_type": "code",
      "metadata": {
        "id": "P_bFWIsQxck-",
        "colab_type": "code",
        "colab": {}
      },
      "source": [
        "import tensorflow as tf\n",
        "import matplotlib.pyplot as plt\n",
        "\n",
        "(train_X, train_Y), (test_X, test_Y) = tf.keras.datasets.mnist.load_data()\n",
        "\n",
        "train_X = train_X/255.0\n",
        "test_X = test_X/255.0\n",
        "\n",
        "print(train_X.shape)\n",
        "\n",
        "plt.imshow(train_X[0], cmap='gray')\n",
        "plt.colorbar()\n",
        "plt.show()\n",
        "\n",
        "train_X = train_X.reshape(-1, 28*28)\n",
        "test_X = test_X.reshape(-1, 28*28)\n",
        "\n",
        "print(train_X.shape)\n",
        "\n",
        "model = tf.keras.Sequential()\n",
        "model.add (tf.keras.layers.Dense(784, activation='relu', input_shape=(784,)))\n",
        "model.add(tf.keras.layers.Dense(32, activation='relu'))\n",
        "model.add(tf.keras.layers.Dense(784, activation='sigmoid'))\n",
        "\n",
        "model.compile(optimizer=tf.optimizers.Adam(), loss='mse')\n",
        "model.summary()"
      ],
      "execution_count": null,
      "outputs": []
    },
    {
      "cell_type": "markdown",
      "metadata": {
        "id": "En1VWDUWxdPy",
        "colab_type": "text"
      },
      "source": [
        "# 4."
      ]
    },
    {
      "cell_type": "code",
      "metadata": {
        "id": "Cc_krPSLxd_h",
        "colab_type": "code",
        "colab": {}
      },
      "source": [
        "import tensorflow as tf\n",
        "import matplotlib.pyplot as plt\n",
        "\n",
        "(train_X, train_Y), (test_X, test_Y) = tf.keras.datasets.mnist.load_data()\n",
        "\n",
        "train_X = train_X/255.0\n",
        "test_X = test_X/255.0\n",
        "\n",
        "print(train_X.shape)\n",
        "\n",
        "plt.imshow(train_X[0], cmap='gray')\n",
        "plt.colorbar()\n",
        "plt.show()\n",
        "\n",
        "#flatten\n",
        "train_X = train_X.reshape(-1, 28*28)\n",
        "test_X = test_X.reshape(-1, 28*28)\n",
        "\n",
        "print(train_X.shape)\n",
        "\n",
        "model = tf.keras.Sequential()\n",
        "model.add (tf.keras.layers.Dense(784, activation='relu', input_shape=(784,)))\n",
        "model.add(tf.keras.layers.Dense(128, activation='relu'))\n",
        "model.add(tf.keras.layers.Dense(32, activation='relu'))\n",
        "model.add(tf.keras.layers.Dense(128, activation='relu'))\n",
        "model.add(tf.keras.layers.Dense(784, activation='sigmoid'))\n",
        "\n",
        "model.compile(optimizer=tf.optimizers.Adam(), loss='mse')\n",
        "model.summary()\n",
        "\n",
        "latent_vector_model = tf.keras.Model(inputs=model.input, outputs=model.layers[3].output)\n",
        "\n",
        "latent_vector = latent_vector_model.predict(train_X)\n",
        "print(latent_vector.shape)\n",
        "print(latent_vector[0])"
      ],
      "execution_count": null,
      "outputs": []
    },
    {
      "cell_type": "markdown",
      "metadata": {
        "id": "IIA-CBlH6F3N",
        "colab_type": "text"
      },
      "source": [
        "#5-1"
      ]
    },
    {
      "cell_type": "code",
      "metadata": {
        "id": "gdtDPXFq4VBC",
        "colab_type": "code",
        "colab": {}
      },
      "source": [
        ""
      ],
      "execution_count": null,
      "outputs": []
    },
    {
      "cell_type": "markdown",
      "metadata": {
        "id": "TWzqqBMs6TRZ",
        "colab_type": "text"
      },
      "source": [
        "#5-2"
      ]
    },
    {
      "cell_type": "code",
      "metadata": {
        "id": "V8A0AWjT6T4g",
        "colab_type": "code",
        "colab": {}
      },
      "source": [
        "import math\n",
        "import numpy as np\n",
        "import tensorflow as tf\n",
        "\n",
        "x = np.array([[1, 1], [1, 0], [0, 1], [0, 0]])\n",
        "y = np.array([[0], [1], [1], [0]])\n",
        "\n",
        "model = tf.keras.Sequential([tf.keras.layers.Dense(units = 2, activation = 'sigmoid', input_shape = (2, )),\n",
        "                             tf.keras.layers.Dense(units = 1, activation = 'sigmoid')\n",
        "                             ])\n",
        "\n",
        "model.compile(optimizer = tf.keras.optimizers.SGD(lr = 0.1), loss = 'mse')\n",
        "\n",
        "model.summary()\n",
        "\n",
        "history = model.fit(x, y, epochs = 500, batch_size = 1)\n",
        "model.predict(x)"
      ],
      "execution_count": null,
      "outputs": []
    },
    {
      "cell_type": "markdown",
      "metadata": {
        "id": "4nTjeTfM8Hpr",
        "colab_type": "text"
      },
      "source": [
        "#5-3"
      ]
    },
    {
      "cell_type": "code",
      "metadata": {
        "id": "py1LWYBB7lIE",
        "colab_type": "code",
        "colab": {}
      },
      "source": [
        "n = len(model.weights)\n",
        "weights = []\n",
        "\n",
        "for i  in range(n):\n",
        "  weights.append(model.weights[i].numpy())\n",
        "  print(i, weights[i])\n",
        "\n",
        "def sigmoid(x):\n",
        "  return 1 / (1 + math.exp(-x))\n",
        "\n",
        "def model(x_0):\n",
        "  W_0 = np.array(weights[0])\n",
        "  B_0 = np.array(weights[1])\n",
        "  W_1 = np.array(weights[2])\n",
        "  B_1 = np.array(weights[3])\n",
        "  neuron_0_0 = sigmoid(np.sum(W[0]*W[0] + B[0]))\n",
        "  neuron_0_1 = sigmoid(np.sum(w[0]*W[1] + B[1]))\n",
        "\n",
        "  X_1 = [neuron_0_0, neuron_0_1]\n",
        "\n",
        "  neuron_1 = sigmoid(np.sum(W[1]*W[1] + B[1]))\n",
        "  return neuron_1"
      ],
      "execution_count": null,
      "outputs": []
    }
  ]
}